{
 "cells": [
  {
   "cell_type": "code",
   "execution_count": null,
   "metadata": {},
   "outputs": [],
   "source": [
    "from keras.layers import  Input,Conv2D,BatchNormalization,Activation,Subtract\n",
    "from keras.models import Model, load_model\n",
    "def MyDnCNN(depth,filters=64,image_shape=(256,256,1), # Height, Width, Channel\n",
    "            use_bnorm=True):\n",
    "    layer_count = 0\n",
    "    inpt = Input(shape=image_shape,name = 'input'+str(layer_count))\n",
    "    # 1st layer, Conv+relu\n",
    "    layer_count += 1\n",
    "    x = Conv2D(filters=filters, kernel_size=(3,3), strides=(1,1),kernel_initializer='Orthogonal', padding='same',name = 'conv'+str(layer_count))(inpt)\n",
    "    layer_count += 1\n",
    "    x = Activation('relu',name = 'relu'+str(layer_count))(x)\n",
    "    # depth-2 layers, Conv+BN+relu\n",
    "    for i in range(depth-2):\n",
    "        layer_count += 1\n",
    "        x = Conv2D(filters=filters, kernel_size=(3,3), strides=(1,1),kernel_initializer='Orthogonal', padding='same',use_bias = False,name = 'conv'+str(layer_count))(x)\n",
    "        if use_bnorm:\n",
    "            layer_count += 1\n",
    "            #x = BatchNormalization(axis=3, momentum=0.1,epsilon=0.0001, name = 'bn'+str(layer_count))(x) \n",
    "        x = BatchNormalization(axis=3, momentum=0.0,epsilon=0.0001, name = 'bn'+str(layer_count))(x)\n",
    "        layer_count += 1\n",
    "        x = Activation('relu',name = 'relu'+str(layer_count))(x)  \n",
    "    # last layer, Conv\n",
    "    layer_count += 1\n",
    "    x = Conv2D(filters=image_shape[-1], kernel_size=(3,3), strides=(1,1), kernel_initializer='Orthogonal',padding='same',use_bias = False,name = 'conv'+str(layer_count))(x)\n",
    "    layer_count += 1\n",
    "    x = Subtract(name = 'subtract' + str(layer_count))([inpt, x])   # input - noise\n",
    "    model = Model(inputs=inpt, outputs=x)\n",
    "#     print(image_shape)\n",
    "    \n",
    "    return model"
   ]
  },
  {
   "cell_type": "code",
   "execution_count": null,
   "metadata": {},
   "outputs": [],
   "source": [
    "from keras.layers import  Input,Conv2D,BatchNormalization,Activation,Subtract,Dense,Reshape\n",
    "from keras.models import Model, load_model\n",
    "def MyDnCNN_2(depth,filters=64,image_shape=(256,256,1), # Height, Width, Channel\n",
    "            use_bnorm=True):\n",
    "    layer_count = 0\n",
    "    inpt_1 = Input(shape=(1,),name = 'input'+str(layer_count))\n",
    "    inpt = Dense(image_shape[0]*image_shape[1]*image_shape[2])(inpt_1)\n",
    "    inpt = Reshape(image_shape)(inpt)\n",
    "    # 1st layer, Conv+relu\n",
    "    layer_count += 1\n",
    "    x = Conv2D(filters=filters, kernel_size=(3,3), strides=(1,1),kernel_initializer='Orthogonal', padding='same',name = 'conv'+str(layer_count))(inpt)\n",
    "    layer_count += 1\n",
    "    x = Activation('relu',name = 'relu'+str(layer_count))(x)\n",
    "    # depth-2 layers, Conv+BN+relu\n",
    "    for i in range(depth-2):\n",
    "        layer_count += 1\n",
    "        x = Conv2D(filters=filters, kernel_size=(3,3), strides=(1,1),kernel_initializer='Orthogonal', padding='same',use_bias = False,name = 'conv'+str(layer_count))(x)\n",
    "        if use_bnorm:\n",
    "            layer_count += 1\n",
    "            #x = BatchNormalization(axis=3, momentum=0.1,epsilon=0.0001, name = 'bn'+str(layer_count))(x) \n",
    "        x = BatchNormalization(axis=3, momentum=0.0,epsilon=0.0001, name = 'bn'+str(layer_count))(x)\n",
    "        layer_count += 1\n",
    "        x = Activation('relu',name = 'relu'+str(layer_count))(x)  \n",
    "    # last layer, Conv\n",
    "    layer_count += 1\n",
    "    x = Conv2D(filters=image_shape[-1], kernel_size=(3,3), strides=(1,1), kernel_initializer='Orthogonal',padding='same',use_bias = False,name = 'conv'+str(layer_count))(x)\n",
    "#     layer_count += 1\n",
    "#     x = Subtract(name = 'subtract' + str(layer_count))([inpt, x])   # input - noise\n",
    "    model = Model(inputs=inpt_1, outputs=x)\n",
    "#     print(image_shape)\n",
    "    \n",
    "    return model"
   ]
  },
  {
   "cell_type": "code",
   "execution_count": null,
   "metadata": {},
   "outputs": [],
   "source": [
    "tmp_model = MyDnCNN(5)\n",
    "print(tmp_model.summary())"
   ]
  },
  {
   "cell_type": "code",
   "execution_count": null,
   "metadata": {},
   "outputs": [],
   "source": [
    "tmp_model_2 = MyDnCNN_2(5)\n",
    "print(tmp_model_2.summary())"
   ]
  },
  {
   "cell_type": "code",
   "execution_count": null,
   "metadata": {},
   "outputs": [],
   "source": [
    "model = Model(inputs=tmp_model_2.input, outputs=tmp_model_2.layers[2].output)\n",
    "print(model.summary())"
   ]
  },
  {
   "cell_type": "code",
   "execution_count": null,
   "metadata": {},
   "outputs": [],
   "source": [
    "weights = model.layers[1].get_weights()\n",
    "print(weights[1].shape)"
   ]
  },
  {
   "cell_type": "code",
   "execution_count": null,
   "metadata": {},
   "outputs": [],
   "source": [
    "from skimage.measure import compare_psnr, compare_ssim\n",
    "from skimage.io import imread, imsave\n",
    "import numpy as np\n",
    "import keras\n",
    "from keras.models import load_model, model_from_json\n",
    "import sys\n",
    "import matplotlib.pyplot as plt\n",
    "%matplotlib inline\n",
    "import os\n",
    "test_image_path = \"./data/Test/Set12/\"\n",
    "image_name = \"01.png\"\n",
    "x = np.asarray(imread(os.path.join(test_image_path,image_name)),dtype=np.float32)/ 255.0\n",
    "plt.imshow(x)\n",
    "print(x.shape)"
   ]
  },
  {
   "cell_type": "code",
   "execution_count": null,
   "metadata": {},
   "outputs": [],
   "source": [
    "new_weight = np.reshape(x,(1,-1))\n",
    "new_weight_2 = np.reshape(new_weight,(-1))\n",
    "# new_weight_2.shape=(new_weight_2[1],)\n",
    "print(new_weight.shape,new_weight_2.shape)"
   ]
  },
  {
   "cell_type": "code",
   "execution_count": null,
   "metadata": {},
   "outputs": [],
   "source": [
    "model.layers[1].set_weights([new_weight,new_weight_2])"
   ]
  },
  {
   "cell_type": "code",
   "execution_count": null,
   "metadata": {},
   "outputs": [],
   "source": [
    "x_input = np.asarray([0],dtype=np.float32)\n",
    "y = model.predict(x_input)"
   ]
  },
  {
   "cell_type": "code",
   "execution_count": null,
   "metadata": {},
   "outputs": [],
   "source": [
    "print()"
   ]
  },
  {
   "cell_type": "code",
   "execution_count": null,
   "metadata": {},
   "outputs": [],
   "source": [
    "a = y[0,:,:,0]-x\n",
    "print(y[0,:,:,0]-x)\n"
   ]
  },
  {
   "cell_type": "code",
   "execution_count": null,
   "metadata": {},
   "outputs": [],
   "source": [
    "print(y.shape)\n",
    "# plt.imshow(y[0,:,:,0])\n",
    "plt.imshow(y[0,:,:,0]-x)"
   ]
  },
  {
   "cell_type": "code",
   "execution_count": null,
   "metadata": {},
   "outputs": [],
   "source": [
    "from keras.models import Sequential\n",
    "from keras.layers import Dense, Activation"
   ]
  },
  {
   "cell_type": "code",
   "execution_count": null,
   "metadata": {},
   "outputs": [],
   "source": [
    "model = Sequential()\n",
    "model.add(Dense(10,input_shape=(1,)))\n",
    "model.add(Dense(1))\n",
    "print(model.summary())"
   ]
  },
  {
   "cell_type": "code",
   "execution_count": null,
   "metadata": {},
   "outputs": [],
   "source": []
  }
 ],
 "metadata": {
  "kernelspec": {
   "display_name": "Python 3",
   "language": "python",
   "name": "python3"
  },
  "language_info": {
   "codemirror_mode": {
    "name": "ipython",
    "version": 3
   },
   "file_extension": ".py",
   "mimetype": "text/x-python",
   "name": "python",
   "nbconvert_exporter": "python",
   "pygments_lexer": "ipython3",
   "version": "3.5.0"
  }
 },
 "nbformat": 4,
 "nbformat_minor": 2
}
