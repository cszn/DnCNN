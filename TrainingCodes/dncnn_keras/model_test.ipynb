{
 "cells": [
  {
   "cell_type": "code",
   "execution_count": null,
   "metadata": {},
   "outputs": [],
   "source": [
    "import keras\n",
    "from keras.models import load_model, model_from_json\n",
    "import sys\n",
    "import matplotlib.pyplot as plt\n",
    "%matplotlib inline\n",
    "sys.path.append(\"./Func\")"
   ]
  },
  {
   "cell_type": "code",
   "execution_count": null,
   "metadata": {},
   "outputs": [],
   "source": [
    "from loading_data import DataLoader_base\n",
    "from building_network import NetworkBuild_base\n",
    "from run_network import NetworkRun_base\n",
    "from editing_network import NetworkEdit_base"
   ]
  },
  {
   "cell_type": "code",
   "execution_count": null,
   "metadata": {},
   "outputs": [],
   "source": [
    "import os"
   ]
  },
  {
   "cell_type": "code",
   "execution_count": null,
   "metadata": {},
   "outputs": [],
   "source": [
    "os.environ[\"CUDA_VISIBLE_DEVICES\"] = \"0\""
   ]
  },
  {
   "cell_type": "code",
   "execution_count": null,
   "metadata": {},
   "outputs": [],
   "source": [
    "test_net = NetworkEdit_base()"
   ]
  },
  {
   "cell_type": "code",
   "execution_count": null,
   "metadata": {},
   "outputs": [],
   "source": [
    "load_path = \"./models/DnCNN_sigma25/model.json\"\n",
    "test_net.LoadModel(\"ARCHITECTURE\",load_path)\n",
    "print(test_net.model.summary())"
   ]
  },
  {
   "cell_type": "code",
   "execution_count": null,
   "metadata": {},
   "outputs": [],
   "source": [
    "load_path = \"./models/DnCNN_sigma25/model.h5\"\n",
    "test_net.LoadModel(\"WEIGHTS\",load_path)\n",
    "print(test_net.model.summary())"
   ]
  },
  {
   "cell_type": "code",
   "execution_count": null,
   "metadata": {},
   "outputs": [],
   "source": [
    "print(test_net.model.input_shape,test_net.model.output_shape)"
   ]
  },
  {
   "cell_type": "code",
   "execution_count": null,
   "metadata": {},
   "outputs": [],
   "source": [
    "test_image_path = \"./data/Test/Set12/\"\n",
    "image_name = \"01.png\""
   ]
  },
  {
   "cell_type": "code",
   "execution_count": null,
   "metadata": {},
   "outputs": [],
   "source": [
    "# test_image_path = \"/home/weixin/Documents/MyProjects/CBSD68-dataset/CBSD68/\"\n",
    "# noisy_level = \"noisy10\"\n",
    "# test_image_dir = os.path.join(test_image_path,noisy_level)\n",
    "# ground_truth_dir = os.path.join(test_image_path,\"original_png\")"
   ]
  },
  {
   "cell_type": "code",
   "execution_count": null,
   "metadata": {},
   "outputs": [],
   "source": [
    "from skimage.measure import compare_psnr, compare_ssim\n",
    "from skimage.io import imread, imsave\n",
    "import numpy as np"
   ]
  },
  {
   "cell_type": "code",
   "execution_count": null,
   "metadata": {},
   "outputs": [],
   "source": [
    "x = np.asarray(imread(os.path.join(test_image_path,image_name)),dtype=np.float32)/ 255.0\n",
    "plt.imshow(x)\n",
    "print(x.shape)"
   ]
  },
  {
   "cell_type": "code",
   "execution_count": null,
   "metadata": {},
   "outputs": [],
   "source": [
    "np.random.seed(seed=0) # for reproducibility\n",
    "y = x + np.random.normal(0, 25/255.0, x.shape) # Add Gaussian noise without clipping\n",
    "y = y.astype(np.float32)\n",
    "plt.imshow(y)\n",
    "print(y.shape)"
   ]
  },
  {
   "cell_type": "code",
   "execution_count": null,
   "metadata": {},
   "outputs": [],
   "source": [
    "y = np.reshape(y,(1,256,256,1))\n",
    "x_predict = test_net.model.predict(y)\n",
    "print(x_predict.shape)"
   ]
  },
  {
   "cell_type": "code",
   "execution_count": null,
   "metadata": {},
   "outputs": [],
   "source": [
    "x_predict = np.reshape(x_predict,(256,256))\n",
    "plt.imshow(x_predict)"
   ]
  },
  {
   "cell_type": "code",
   "execution_count": null,
   "metadata": {},
   "outputs": [],
   "source": [
    "psnr_x_ = compare_psnr(x, x_predict)\n",
    "ssim_x_ = compare_ssim(x, x_predict)\n",
    "print(psnr_x_,ssim_x_)"
   ]
  },
  {
   "cell_type": "code",
   "execution_count": null,
   "metadata": {},
   "outputs": [],
   "source": [
    "from keras.layers import LocallyConnected2D,Multiply, Input\n",
    "from keras.models import Sequential"
   ]
  },
  {
   "cell_type": "code",
   "execution_count": null,
   "metadata": {},
   "outputs": [],
   "source": [
    "from keras import backend as K\n",
    "from keras.engine.topology import Layer\n",
    "\n",
    "class AdLayer(Layer):\n",
    "\n",
    "    def __init__(self, output_dim, **kwargs):\n",
    "        self.output_dim = output_dim\n",
    "        super(AdLayer, self).__init__(**kwargs)\n",
    "\n",
    "    def build(self, input_shape):\n",
    "#         print(type(input_shape),input_shape)\n",
    "        # Create a trainable weight variable for this layer.\n",
    "        self.kernel = self.add_weight(name='kernel', \n",
    "                                      shape=self.output_dim,\n",
    "                                      initializer='uniform',\n",
    "                                      trainable=True)\n",
    "        super(AdLayer, self).build(input_shape)  # Be sure to call this at the end\n",
    "\n",
    "    def call(self, x):\n",
    "        return x*self.kernel\n",
    "\n",
    "    def compute_output_shape(self, input_shape):\n",
    "        return self.output_dim"
   ]
  },
  {
   "cell_type": "code",
   "execution_count": null,
   "metadata": {},
   "outputs": [],
   "source": [
    "del model\n",
    "print(len(test_net.model.layers))\n",
    "model = Sequential()\n",
    "model.add(AdLayer(input_shape=(256,256,1),output_dim=(256,256,1)))\n",
    "for i in range(4):\n",
    "    model.add(test_net.model.layers[i])"
   ]
  },
  {
   "cell_type": "code",
   "execution_count": null,
   "metadata": {},
   "outputs": [],
   "source": [
    "print(model.summary())"
   ]
  },
  {
   "cell_type": "code",
   "execution_count": null,
   "metadata": {},
   "outputs": [],
   "source": [
    "print(model.output_shape)"
   ]
  },
  {
   "cell_type": "code",
   "execution_count": null,
   "metadata": {},
   "outputs": [],
   "source": [
    "from keras.layers import  Input,Conv2D,BatchNormalization,Activation,Subtract\n",
    "from keras.models import Model, load_model\n",
    "def DnCNN(depth,filters=64,image_channels=1, use_bnorm=True):\n",
    "    layer_count = 0\n",
    "    inpt = Input(shape=(256,256,image_channels),name = 'input'+str(layer_count))\n",
    "    # 1st layer, Conv+relu\n",
    "    layer_count += 1\n",
    "    x = Conv2D(filters=filters, kernel_size=(3,3), strides=(1,1),kernel_initializer='Orthogonal', padding='same',name = 'conv'+str(layer_count))(inpt)\n",
    "    layer_count += 1\n",
    "    x = Activation('relu',name = 'relu'+str(layer_count))(x)\n",
    "    # depth-2 layers, Conv+BN+relu\n",
    "    for i in range(depth-2):\n",
    "        layer_count += 1\n",
    "        x = Conv2D(filters=filters, kernel_size=(3,3), strides=(1,1),kernel_initializer='Orthogonal', padding='same',use_bias = False,name = 'conv'+str(layer_count))(x)\n",
    "        if use_bnorm:\n",
    "            layer_count += 1\n",
    "            #x = BatchNormalization(axis=3, momentum=0.1,epsilon=0.0001, name = 'bn'+str(layer_count))(x) \n",
    "        x = BatchNormalization(axis=3, momentum=0.0,epsilon=0.0001, name = 'bn'+str(layer_count))(x)\n",
    "        layer_count += 1\n",
    "        x = Activation('relu',name = 'relu'+str(layer_count))(x)  \n",
    "    # last layer, Conv\n",
    "    layer_count += 1\n",
    "    x = Conv2D(filters=image_channels, kernel_size=(3,3), strides=(1,1), kernel_initializer='Orthogonal',padding='same',use_bias = False,name = 'conv'+str(layer_count))(x)\n",
    "    layer_count += 1\n",
    "    x = Subtract(name = 'subtract' + str(layer_count))([inpt, x])   # input - noise\n",
    "    model = Model(inputs=inpt, outputs=x)\n",
    "    \n",
    "    return model\n"
   ]
  },
  {
   "cell_type": "code",
   "execution_count": null,
   "metadata": {},
   "outputs": [],
   "source": [
    "model = DnCNN(17)"
   ]
  },
  {
   "cell_type": "code",
   "execution_count": null,
   "metadata": {},
   "outputs": [],
   "source": [
    "print(model.summary())"
   ]
  },
  {
   "cell_type": "code",
   "execution_count": null,
   "metadata": {},
   "outputs": [],
   "source": [
    "print(len(model.layers))"
   ]
  },
  {
   "cell_type": "code",
   "execution_count": null,
   "metadata": {},
   "outputs": [],
   "source": [
    "test_net = NetworkEdit_base(model=model)"
   ]
  },
  {
   "cell_type": "code",
   "execution_count": null,
   "metadata": {},
   "outputs": [],
   "source": [
    "print(test_net.model.summary())"
   ]
  },
  {
   "cell_type": "code",
   "execution_count": null,
   "metadata": {},
   "outputs": [],
   "source": [
    "load_path = \"./models/DnCNN_sigma25/model.h5\"\n",
    "test_net.LoadModel(\"WEIGHTS\",load_path)\n",
    "print(test_net.model.summary())"
   ]
  },
  {
   "cell_type": "code",
   "execution_count": null,
   "metadata": {},
   "outputs": [],
   "source": [
    "def MyDnCNN(depth,filters=64,image_channels=1, use_bnorm=True):\n",
    "    layer_count = 0\n",
    "    inpt = AdLayer(input_shape=(256,256,image_channels),output_dim=(256,256,image_channels))\n",
    "    # 1st layer, Conv+relu\n",
    "    layer_count += 1\n",
    "    x = Conv2D(filters=filters, kernel_size=(3,3), strides=(1,1),kernel_initializer='Orthogonal', padding='same',name = 'conv'+str(layer_count))(inpt)\n",
    "    layer_count += 1\n",
    "    x = Activation('relu',name = 'relu'+str(layer_count))(x)\n",
    "    # depth-2 layers, Conv+BN+relu\n",
    "    for i in range(depth-2):\n",
    "        layer_count += 1\n",
    "        x = Conv2D(filters=filters, kernel_size=(3,3), strides=(1,1),kernel_initializer='Orthogonal', padding='same',use_bias = False,name = 'conv'+str(layer_count))(x)\n",
    "        if use_bnorm:\n",
    "            layer_count += 1\n",
    "            #x = BatchNormalization(axis=3, momentum=0.1,epsilon=0.0001, name = 'bn'+str(layer_count))(x) \n",
    "        x = BatchNormalization(axis=3, momentum=0.0,epsilon=0.0001, name = 'bn'+str(layer_count))(x)\n",
    "        layer_count += 1\n",
    "        x = Activation('relu',name = 'relu'+str(layer_count))(x)  \n",
    "    # last layer, Conv\n",
    "    layer_count += 1\n",
    "    x = Conv2D(filters=image_channels, kernel_size=(3,3), strides=(1,1), kernel_initializer='Orthogonal',padding='same',use_bias = False,name = 'conv'+str(layer_count))(x)\n",
    "    layer_count += 1\n",
    "    x = Subtract(name = 'subtract' + str(layer_count))([inpt, x])   # input - noise\n",
    "    model = Model(inputs=inpt, outputs=x)\n",
    "    \n",
    "    return model\n"
   ]
  },
  {
   "cell_type": "code",
   "execution_count": null,
   "metadata": {},
   "outputs": [],
   "source": [
    "new_model = MyDnCNN(17)"
   ]
  },
  {
   "cell_type": "code",
   "execution_count": null,
   "metadata": {},
   "outputs": [],
   "source": [
    "from keras.engine.topology import InputSpec\n",
    "from keras import backend as K\n",
    "from keras.engine.topology import Layer\n",
    "class MyLayer(Layer):\n",
    "\n",
    "    def __init__(self, **kwargs):\n",
    "        super(MyLayer, self).__init__(**kwargs)\n",
    "\n",
    "    def build(self, input_shape):\n",
    "        # Create a trainable weight variable for this layer.\n",
    "        self.input_spec = [InputSpec(shape=input_shape)]\n",
    "        self.kernel = self.add_weight(name='kernel', \n",
    "                                      shape=self.output_dim,\n",
    "                                      initializer='glorot_uniform',\n",
    "                                      trainable=True)\n",
    "        super(MyLayer, self).build(input_shape)  # Be sure to call this at the end\n",
    "\n",
    "    def call(self, inputs):\n",
    "        return inputs*self.kernel\n"
   ]
  },
  {
   "cell_type": "code",
   "execution_count": 3,
   "metadata": {},
   "outputs": [],
   "source": [
    "from keras.engine.topology import InputSpec\n",
    "a = [InputSpec(shape=(None,256,256,1))]"
   ]
  },
  {
   "cell_type": "code",
   "execution_count": 4,
   "metadata": {},
   "outputs": [
    {
     "name": "stdout",
     "output_type": "stream",
     "text": [
      "[InputSpec(shape=(None, 256, 256, 1), ndim=4)]\n"
     ]
    }
   ],
   "source": [
    "print(a)"
   ]
  },
  {
   "cell_type": "code",
   "execution_count": null,
   "metadata": {},
   "outputs": [],
   "source": []
  }
 ],
 "metadata": {
  "kernelspec": {
   "display_name": "Python 3",
   "language": "python",
   "name": "python3"
  },
  "language_info": {
   "codemirror_mode": {
    "name": "ipython",
    "version": 3
   },
   "file_extension": ".py",
   "mimetype": "text/x-python",
   "name": "python",
   "nbconvert_exporter": "python",
   "pygments_lexer": "ipython3",
   "version": "3.5.0"
  }
 },
 "nbformat": 4,
 "nbformat_minor": 2
}
