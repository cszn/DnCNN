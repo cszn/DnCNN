{
 "cells": [
  {
   "cell_type": "code",
   "execution_count": 1,
   "metadata": {},
   "outputs": [
    {
     "name": "stderr",
     "output_type": "stream",
     "text": [
      "Using TensorFlow backend.\n"
     ]
    }
   ],
   "source": [
    "from keras.layers import  Input,Conv2D,BatchNormalization,Activation,Subtract\n",
    "from keras.models import Model, load_model\n",
    "def DnCNN(depth,filters=64,image_channels=1, use_bnorm=True):\n",
    "    layer_count = 0\n",
    "    inpt = Input(shape=(256,256,image_channels),name = 'input'+str(layer_count))\n",
    "    # 1st layer, Conv+relu\n",
    "    layer_count += 1\n",
    "    x = Conv2D(filters=filters, kernel_size=(3,3), strides=(1,1),kernel_initializer='Orthogonal', padding='same',name = 'conv'+str(layer_count))(inpt)\n",
    "    layer_count += 1\n",
    "    x = Activation('relu',name = 'relu'+str(layer_count))(x)\n",
    "    # depth-2 layers, Conv+BN+relu\n",
    "    for i in range(depth-2):\n",
    "        layer_count += 1\n",
    "        x = Conv2D(filters=filters, kernel_size=(3,3), strides=(1,1),kernel_initializer='Orthogonal', padding='same',use_bias = False,name = 'conv'+str(layer_count))(x)\n",
    "        if use_bnorm:\n",
    "            layer_count += 1\n",
    "            #x = BatchNormalization(axis=3, momentum=0.1,epsilon=0.0001, name = 'bn'+str(layer_count))(x) \n",
    "        x = BatchNormalization(axis=3, momentum=0.0,epsilon=0.0001, name = 'bn'+str(layer_count))(x)\n",
    "        layer_count += 1\n",
    "        x = Activation('relu',name = 'relu'+str(layer_count))(x)  \n",
    "    # last layer, Conv\n",
    "    layer_count += 1\n",
    "    x = Conv2D(filters=image_channels, kernel_size=(3,3), strides=(1,1), kernel_initializer='Orthogonal',padding='same',use_bias = False,name = 'conv'+str(layer_count))(x)\n",
    "    layer_count += 1\n",
    "    x = Subtract(name = 'subtract' + str(layer_count))([inpt, x])   # input - noise\n",
    "    model = Model(inputs=inpt, outputs=x)\n",
    "    \n",
    "    return model"
   ]
  },
  {
   "cell_type": "code",
   "execution_count": null,
   "metadata": {},
   "outputs": [],
   "source": [
    "model = DnCNN(17)\n",
    "print(model.summary())"
   ]
  },
  {
   "cell_type": "code",
   "execution_count": null,
   "metadata": {},
   "outputs": [],
   "source": [
    "def MyDnCNN(depth,filters=64,image_shape=(256,256,1), # Height, Width, Channel\n",
    "            use_bnorm=True):\n",
    "    layer_count = 0\n",
    "    inpt = Input(shape=image_shape,name = 'input'+str(layer_count))\n",
    "    # 1st layer, Conv+relu\n",
    "    layer_count += 1\n",
    "    x = Conv2D(filters=filters, kernel_size=(3,3), strides=(1,1),kernel_initializer='Orthogonal', padding='same',name = 'conv'+str(layer_count))(inpt)\n",
    "    layer_count += 1\n",
    "    x = Activation('relu',name = 'relu'+str(layer_count))(x)\n",
    "    # depth-2 layers, Conv+BN+relu\n",
    "    for i in range(depth-2):\n",
    "        layer_count += 1\n",
    "        x = Conv2D(filters=filters, kernel_size=(3,3), strides=(1,1),kernel_initializer='Orthogonal', padding='same',use_bias = False,name = 'conv'+str(layer_count))(x)\n",
    "        if use_bnorm:\n",
    "            layer_count += 1\n",
    "            #x = BatchNormalization(axis=3, momentum=0.1,epsilon=0.0001, name = 'bn'+str(layer_count))(x) \n",
    "        x = BatchNormalization(axis=3, momentum=0.0,epsilon=0.0001, name = 'bn'+str(layer_count))(x)\n",
    "        layer_count += 1\n",
    "        x = Activation('relu',name = 'relu'+str(layer_count))(x)  \n",
    "    # last layer, Conv\n",
    "    layer_count += 1\n",
    "    x = Conv2D(filters=image_shape[-1], kernel_size=(3,3), strides=(1,1), kernel_initializer='Orthogonal',padding='same',use_bias = False,name = 'conv'+str(layer_count))(x)\n",
    "    layer_count += 1\n",
    "    x = Subtract(name = 'subtract' + str(layer_count))([inpt, x])   # input - noise\n",
    "    model = Model(inputs=inpt, outputs=x)\n",
    "    print(image_shape)\n",
    "    \n",
    "    return model"
   ]
  },
  {
   "cell_type": "code",
   "execution_count": null,
   "metadata": {},
   "outputs": [],
   "source": [
    "model = MyDnCNN(depth=2,image_shape=(16,16,3,))\n",
    "print(model.summary())"
   ]
  },
  {
   "cell_type": "code",
   "execution_count": 3,
   "metadata": {},
   "outputs": [],
   "source": [
    "from keras.engine.topology import InputSpec\n",
    "from keras.engine.topology import Layer\n",
    "from keras import initializers\n",
    "\n",
    "class ElementProduct(Layer):\n",
    "    \n",
    "\n",
    "    def __init__(self, kernel_initializer='glorot_uniform',**kwargs):\n",
    "        if 'input_shape' not in kwargs and 'input_dim' in kwargs:\n",
    "            kwargs['input_shape'] = (kwargs.pop('input_dim'),)\n",
    "        super(ElementProduct, self).__init__(**kwargs)\n",
    "        self.kernel_initializer = initializers.get(kernel_initializer)\n",
    "        self.input_spec = InputSpec(min_ndim=2)\n",
    "        self.supports_masking = True\n",
    "\n",
    "    def build(self, input_shape):\n",
    "        assert len(input_shape) >= 2\n",
    "\n",
    "        self.kernel = self.add_weight(shape=input_shape,\n",
    "                                      initializer=self.kernel_initializer,\n",
    "                                      name='kernel',)\n",
    "        \n",
    "        self.input_spec = InputSpec(min_ndim=2, axes={-1: input_dim})\n",
    "        self.built = True\n",
    "\n",
    "    def call(self, inputs=None):\n",
    "#         output = K.dot(inputs, self.kernel)\n",
    "#         if self.use_bias:\n",
    "#             output = K.bias_add(output, self.bias, data_format='channels_last')\n",
    "#         if self.activation is not None:\n",
    "#             output = self.activation(output)\n",
    "        return self.kernel\n",
    "\n",
    "#     def compute_output_shape(self, input_shape):\n",
    "#         assert input_shape and len(input_shape) >= 2\n",
    "#         assert input_shape[-1]\n",
    "#         output_shape = list(input_shape)\n",
    "#         output_shape[-1] = self.units\n",
    "#         return tuple(output_shape)\n",
    "\n",
    "#     def get_config(self):\n",
    "#         config = {\n",
    "#             'units': self.units,\n",
    "#             'activation': activations.serialize(self.activation),\n",
    "#             'use_bias': self.use_bias,\n",
    "#             'kernel_initializer': initializers.serialize(self.kernel_initializer),\n",
    "#             'bias_initializer': initializers.serialize(self.bias_initializer),\n",
    "#             'kernel_regularizer': regularizers.serialize(self.kernel_regularizer),\n",
    "#             'bias_regularizer': regularizers.serialize(self.bias_regularizer),\n",
    "#             'activity_regularizer':\n",
    "#                 regularizers.serialize(self.activity_regularizer),\n",
    "#             'kernel_constraint': constraints.serialize(self.kernel_constraint),\n",
    "#             'bias_constraint': constraints.serialize(self.bias_constraint)\n",
    "#         }\n",
    "#         base_config = super(Dense, self).get_config()\n",
    "#         return dict(list(base_config.items()) + list(config.items()))\n"
   ]
  },
  {
   "cell_type": "code",
   "execution_count": 4,
   "metadata": {},
   "outputs": [],
   "source": [
    "def MyDnCNN(depth,filters=64,image_shape=(256,256,1), # Height, Width, Channel\n",
    "            use_bnorm=True):\n",
    "    layer_count = 0\n",
    "    inpt = Input(shape=image_shape,name = 'input'+str(layer_count))\n",
    "    x = ElementProduct()(inpt)\n",
    "    # 1st layer, Conv+relu\n",
    "    layer_count += 1\n",
    "    x = Conv2D(filters=filters, kernel_size=(3,3), strides=(1,1),kernel_initializer='Orthogonal', padding='same',name = 'conv'+str(layer_count))(x)\n",
    "    layer_count += 1\n",
    "    x = Activation('relu',name = 'relu'+str(layer_count))(x)\n",
    "    # depth-2 layers, Conv+BN+relu\n",
    "    for i in range(depth-2):\n",
    "        layer_count += 1\n",
    "        x = Conv2D(filters=filters, kernel_size=(3,3), strides=(1,1),kernel_initializer='Orthogonal', padding='same',use_bias = False,name = 'conv'+str(layer_count))(x)\n",
    "        if use_bnorm:\n",
    "            layer_count += 1\n",
    "            #x = BatchNormalization(axis=3, momentum=0.1,epsilon=0.0001, name = 'bn'+str(layer_count))(x) \n",
    "        x = BatchNormalization(axis=3, momentum=0.0,epsilon=0.0001, name = 'bn'+str(layer_count))(x)\n",
    "        layer_count += 1\n",
    "        x = Activation('relu',name = 'relu'+str(layer_count))(x)  \n",
    "    # last layer, Conv\n",
    "    layer_count += 1\n",
    "    x = Conv2D(filters=image_shape[-1], kernel_size=(3,3), strides=(1,1), kernel_initializer='Orthogonal',padding='same',use_bias = False,name = 'conv'+str(layer_count))(x)\n",
    "    layer_count += 1\n",
    "    x = Subtract(name = 'subtract' + str(layer_count))([inpt, x])   # input - noise\n",
    "    model = Model(inputs=inpt, outputs=x)\n",
    "    print(image_shape)\n",
    "    \n",
    "    return model"
   ]
  },
  {
   "cell_type": "code",
   "execution_count": 5,
   "metadata": {},
   "outputs": [
    {
     "ename": "NameError",
     "evalue": "name 'initializers' is not defined",
     "output_type": "error",
     "traceback": [
      "\u001b[0;31m---------------------------------------------------------------------------\u001b[0m",
      "\u001b[0;31mNameError\u001b[0m                                 Traceback (most recent call last)",
      "\u001b[0;32m<ipython-input-5-df501f77f4e7>\u001b[0m in \u001b[0;36m<module>\u001b[0;34m()\u001b[0m\n\u001b[0;32m----> 1\u001b[0;31m \u001b[0ma\u001b[0m \u001b[0;34m=\u001b[0m \u001b[0mMyDnCNN\u001b[0m\u001b[0;34m(\u001b[0m\u001b[0;36m5\u001b[0m\u001b[0;34m)\u001b[0m\u001b[0;34m\u001b[0m\u001b[0m\n\u001b[0m",
      "\u001b[0;32m<ipython-input-4-8e1ebbda223f>\u001b[0m in \u001b[0;36mMyDnCNN\u001b[0;34m(depth, filters, image_shape, use_bnorm)\u001b[0m\n\u001b[1;32m      3\u001b[0m     \u001b[0mlayer_count\u001b[0m \u001b[0;34m=\u001b[0m \u001b[0;36m0\u001b[0m\u001b[0;34m\u001b[0m\u001b[0m\n\u001b[1;32m      4\u001b[0m     \u001b[0minpt\u001b[0m \u001b[0;34m=\u001b[0m \u001b[0mInput\u001b[0m\u001b[0;34m(\u001b[0m\u001b[0mshape\u001b[0m\u001b[0;34m=\u001b[0m\u001b[0mimage_shape\u001b[0m\u001b[0;34m,\u001b[0m\u001b[0mname\u001b[0m \u001b[0;34m=\u001b[0m \u001b[0;34m'input'\u001b[0m\u001b[0;34m+\u001b[0m\u001b[0mstr\u001b[0m\u001b[0;34m(\u001b[0m\u001b[0mlayer_count\u001b[0m\u001b[0;34m)\u001b[0m\u001b[0;34m)\u001b[0m\u001b[0;34m\u001b[0m\u001b[0m\n\u001b[0;32m----> 5\u001b[0;31m     \u001b[0mx\u001b[0m \u001b[0;34m=\u001b[0m \u001b[0mElementProduct\u001b[0m\u001b[0;34m(\u001b[0m\u001b[0;34m)\u001b[0m\u001b[0;34m(\u001b[0m\u001b[0minpt\u001b[0m\u001b[0;34m)\u001b[0m\u001b[0;34m\u001b[0m\u001b[0m\n\u001b[0m\u001b[1;32m      6\u001b[0m     \u001b[0;31m# 1st layer, Conv+relu\u001b[0m\u001b[0;34m\u001b[0m\u001b[0;34m\u001b[0m\u001b[0m\n\u001b[1;32m      7\u001b[0m     \u001b[0mlayer_count\u001b[0m \u001b[0;34m+=\u001b[0m \u001b[0;36m1\u001b[0m\u001b[0;34m\u001b[0m\u001b[0m\n",
      "\u001b[0;32m<ipython-input-3-b8edd277d32e>\u001b[0m in \u001b[0;36m__init__\u001b[0;34m(self, kernel_initializer, **kwargs)\u001b[0m\n\u001b[1;32m      9\u001b[0m             \u001b[0mkwargs\u001b[0m\u001b[0;34m[\u001b[0m\u001b[0;34m'input_shape'\u001b[0m\u001b[0;34m]\u001b[0m \u001b[0;34m=\u001b[0m \u001b[0;34m(\u001b[0m\u001b[0mkwargs\u001b[0m\u001b[0;34m.\u001b[0m\u001b[0mpop\u001b[0m\u001b[0;34m(\u001b[0m\u001b[0;34m'input_dim'\u001b[0m\u001b[0;34m)\u001b[0m\u001b[0;34m,\u001b[0m\u001b[0;34m)\u001b[0m\u001b[0;34m\u001b[0m\u001b[0m\n\u001b[1;32m     10\u001b[0m         \u001b[0msuper\u001b[0m\u001b[0;34m(\u001b[0m\u001b[0mElementProduct\u001b[0m\u001b[0;34m,\u001b[0m \u001b[0mself\u001b[0m\u001b[0;34m)\u001b[0m\u001b[0;34m.\u001b[0m\u001b[0m__init__\u001b[0m\u001b[0;34m(\u001b[0m\u001b[0;34m**\u001b[0m\u001b[0mkwargs\u001b[0m\u001b[0;34m)\u001b[0m\u001b[0;34m\u001b[0m\u001b[0m\n\u001b[0;32m---> 11\u001b[0;31m         \u001b[0mself\u001b[0m\u001b[0;34m.\u001b[0m\u001b[0mkernel_initializer\u001b[0m \u001b[0;34m=\u001b[0m \u001b[0minitializers\u001b[0m\u001b[0;34m.\u001b[0m\u001b[0mget\u001b[0m\u001b[0;34m(\u001b[0m\u001b[0mkernel_initializer\u001b[0m\u001b[0;34m)\u001b[0m\u001b[0;34m\u001b[0m\u001b[0m\n\u001b[0m\u001b[1;32m     12\u001b[0m         \u001b[0mself\u001b[0m\u001b[0;34m.\u001b[0m\u001b[0minput_spec\u001b[0m \u001b[0;34m=\u001b[0m \u001b[0mInputSpec\u001b[0m\u001b[0;34m(\u001b[0m\u001b[0mmin_ndim\u001b[0m\u001b[0;34m=\u001b[0m\u001b[0;36m2\u001b[0m\u001b[0;34m)\u001b[0m\u001b[0;34m\u001b[0m\u001b[0m\n\u001b[1;32m     13\u001b[0m         \u001b[0mself\u001b[0m\u001b[0;34m.\u001b[0m\u001b[0msupports_masking\u001b[0m \u001b[0;34m=\u001b[0m \u001b[0;32mTrue\u001b[0m\u001b[0;34m\u001b[0m\u001b[0m\n",
      "\u001b[0;31mNameError\u001b[0m: name 'initializers' is not defined"
     ]
    }
   ],
   "source": [
    "a = MyDnCNN(5)"
   ]
  },
  {
   "cell_type": "code",
   "execution_count": null,
   "metadata": {},
   "outputs": [],
   "source": []
  }
 ],
 "metadata": {
  "kernelspec": {
   "display_name": "Python 3",
   "language": "python",
   "name": "python3"
  },
  "language_info": {
   "codemirror_mode": {
    "name": "ipython",
    "version": 3
   },
   "file_extension": ".py",
   "mimetype": "text/x-python",
   "name": "python",
   "nbconvert_exporter": "python",
   "pygments_lexer": "ipython3",
   "version": "3.5.0"
  }
 },
 "nbformat": 4,
 "nbformat_minor": 2
}
