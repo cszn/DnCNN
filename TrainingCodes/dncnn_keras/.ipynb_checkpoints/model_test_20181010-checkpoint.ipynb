{
 "cells": [
  {
   "cell_type": "code",
   "execution_count": null,
   "metadata": {},
   "outputs": [],
   "source": [
    "import keras\n",
    "from keras.models import load_model, model_from_json\n",
    "import sys\n",
    "import matplotlib.pyplot as plt\n",
    "%matplotlib inline\n",
    "sys.path.append(\"./Func\")"
   ]
  },
  {
   "cell_type": "code",
   "execution_count": null,
   "metadata": {},
   "outputs": [],
   "source": [
    "from loading_data import DataLoader_base\n",
    "from building_network import NetworkBuild_base\n",
    "from run_network import NetworkRun_base\n",
    "from editing_network import NetworkEdit_base"
   ]
  },
  {
   "cell_type": "code",
   "execution_count": null,
   "metadata": {},
   "outputs": [],
   "source": [
    "import os"
   ]
  },
  {
   "cell_type": "code",
   "execution_count": null,
   "metadata": {},
   "outputs": [],
   "source": [
    "os.environ[\"CUDA_VISIBLE_DEVICES\"] = \"0\""
   ]
  },
  {
   "cell_type": "code",
   "execution_count": null,
   "metadata": {},
   "outputs": [],
   "source": [
    "from keras.layers import  Input,Conv2D,BatchNormalization,Activation,Subtract,Dense,Reshape\n",
    "from keras.models import Model, load_model"
   ]
  },
  {
   "cell_type": "code",
   "execution_count": null,
   "metadata": {},
   "outputs": [],
   "source": [
    "def MyDnCNN(depth,filters=64,image_shape=(256,256,1), # Height, Width, Channel\n",
    "            use_bnorm=True):\n",
    "    layer_count = 0\n",
    "    inpt = Input(shape=image_shape,name = 'input'+str(layer_count))\n",
    "    # 1st layer, Conv+relu\n",
    "    layer_count += 1\n",
    "    x = Conv2D(filters=filters, kernel_size=(3,3), strides=(1,1),kernel_initializer='Orthogonal', padding='same',name = 'conv'+str(layer_count))(inpt)\n",
    "    layer_count += 1\n",
    "    x = Activation('relu',name = 'relu'+str(layer_count))(x)\n",
    "    # depth-2 layers, Conv+BN+relu\n",
    "    for i in range(depth-2):\n",
    "        layer_count += 1\n",
    "        x = Conv2D(filters=filters, kernel_size=(3,3), strides=(1,1),kernel_initializer='Orthogonal', padding='same',use_bias = False,name = 'conv'+str(layer_count))(x)\n",
    "        if use_bnorm:\n",
    "            layer_count += 1\n",
    "            #x = BatchNormalization(axis=3, momentum=0.1,epsilon=0.0001, name = 'bn'+str(layer_count))(x) \n",
    "        x = BatchNormalization(axis=3, momentum=0.0,epsilon=0.0001, name = 'bn'+str(layer_count))(x)\n",
    "        layer_count += 1\n",
    "        x = Activation('relu',name = 'relu'+str(layer_count))(x)  \n",
    "    # last layer, Conv\n",
    "    layer_count += 1\n",
    "    x = Conv2D(filters=image_shape[-1], kernel_size=(3,3), strides=(1,1), kernel_initializer='Orthogonal',padding='same',use_bias = False,name = 'conv'+str(layer_count))(x)\n",
    "    layer_count += 1\n",
    "    x = Subtract(name = 'subtract' + str(layer_count))([inpt, x])   # input - noise\n",
    "    model = Model(inputs=inpt, outputs=x)\n",
    "#     print(image_shape)\n",
    "    \n",
    "    return model"
   ]
  },
  {
   "cell_type": "code",
   "execution_count": null,
   "metadata": {},
   "outputs": [],
   "source": [
    "test_net = NetworkEdit_base(model=MyDnCNN(17))"
   ]
  },
  {
   "cell_type": "code",
   "execution_count": null,
   "metadata": {},
   "outputs": [],
   "source": [
    "load_path = \"./models/DnCNN_sigma25/model.h5\"\n",
    "test_net.LoadModel(\"WEIGHTS\",load_path)\n",
    "print(test_net.model.summary())"
   ]
  },
  {
   "cell_type": "code",
   "execution_count": null,
   "metadata": {},
   "outputs": [],
   "source": [
    "from skimage.measure import compare_psnr, compare_ssim\n",
    "from skimage.io import imread, imsave\n",
    "import numpy as np"
   ]
  },
  {
   "cell_type": "code",
   "execution_count": null,
   "metadata": {},
   "outputs": [],
   "source": [
    "test_image_path = \"./data/Test/Set12/\"\n",
    "image_name = \"01.png\""
   ]
  },
  {
   "cell_type": "code",
   "execution_count": null,
   "metadata": {},
   "outputs": [],
   "source": [
    "x = np.asarray(imread(os.path.join(test_image_path,image_name)),dtype=np.float32)/ 255.0\n",
    "plt.imshow(x)\n",
    "print(x.shape)\n",
    "\n",
    "np.random.seed(seed=0) # for reproducibility\n",
    "y = x + np.random.normal(0, 70/255.0, x.shape) # Add Gaussian noise without clipping\n",
    "y = y.astype(np.float32)\n",
    "plt.imshow(y)\n",
    "print(y.shape)"
   ]
  },
  {
   "cell_type": "code",
   "execution_count": null,
   "metadata": {},
   "outputs": [],
   "source": [
    "y = np.reshape(x_predict,(1,256,256,1))\n",
    "x_predict = test_net.model.predict(y)\n",
    "print(x_predict.shape)"
   ]
  },
  {
   "cell_type": "code",
   "execution_count": null,
   "metadata": {},
   "outputs": [],
   "source": [
    "x_predict = np.reshape(x_predict,(256,256))\n",
    "plt.imshow(x_predict)"
   ]
  },
  {
   "cell_type": "code",
   "execution_count": null,
   "metadata": {},
   "outputs": [],
   "source": [
    "plt.imshow(x-x_predict)"
   ]
  },
  {
   "cell_type": "code",
   "execution_count": null,
   "metadata": {},
   "outputs": [],
   "source": [
    "psnr_x_ = compare_psnr(x, x_predict)\n",
    "ssim_x_ = compare_ssim(x, x_predict)\n",
    "print(psnr_x_,ssim_x_)"
   ]
  },
  {
   "cell_type": "code",
   "execution_count": null,
   "metadata": {},
   "outputs": [],
   "source": [
    "def MyDnCNN_2(depth,filters=64,image_shape=(256,256,1), # Height, Width, Channel\n",
    "            use_bnorm=True):\n",
    "    layer_count = 0\n",
    "    inpt_1 = Input(shape=(1,),name = 'input'+str(layer_count))\n",
    "    inpt = Dense(image_shape[0]*image_shape[1]*image_shape[2])(inpt_1)\n",
    "    inpt = Reshape(image_shape)(inpt)\n",
    "    # 1st layer, Conv+relu\n",
    "    layer_count += 1\n",
    "    x = Conv2D(filters=filters, kernel_size=(3,3), strides=(1,1),kernel_initializer='Orthogonal', padding='same',name = 'conv'+str(layer_count))(inpt)\n",
    "    layer_count += 1\n",
    "    x = Activation('relu',name = 'relu'+str(layer_count))(x)\n",
    "    # depth-2 layers, Conv+BN+relu\n",
    "    for i in range(depth-2):\n",
    "        layer_count += 1\n",
    "        x = Conv2D(filters=filters, kernel_size=(3,3), strides=(1,1),kernel_initializer='Orthogonal', padding='same',use_bias = False,name = 'conv'+str(layer_count))(x)\n",
    "        if use_bnorm:\n",
    "            layer_count += 1\n",
    "            #x = BatchNormalization(axis=3, momentum=0.1,epsilon=0.0001, name = 'bn'+str(layer_count))(x) \n",
    "        x = BatchNormalization(axis=3, momentum=0.0,epsilon=0.0001, name = 'bn'+str(layer_count))(x)\n",
    "        layer_count += 1\n",
    "        x = Activation('relu',name = 'relu'+str(layer_count))(x)  \n",
    "    # last layer, Conv\n",
    "    layer_count += 1\n",
    "    x = Conv2D(filters=image_shape[-1], kernel_size=(3,3), strides=(1,1), kernel_initializer='Orthogonal',padding='same',use_bias = False,name = 'conv'+str(layer_count))(x)\n",
    "#     layer_count += 1\n",
    "#     x = Subtract(name = 'subtract' + str(layer_count))([inpt, x])   # input - noise\n",
    "    model = Model(inputs=inpt_1, outputs=x)\n",
    "#     print(image_shape)\n",
    "    \n",
    "    return model"
   ]
  },
  {
   "cell_type": "code",
   "execution_count": null,
   "metadata": {},
   "outputs": [],
   "source": [
    "new_model = NetworkEdit_base(model=MyDnCNN_2(17))"
   ]
  },
  {
   "cell_type": "code",
   "execution_count": null,
   "metadata": {},
   "outputs": [],
   "source": [
    "load_path = \"./models/DnCNN_sigma25/model.h5\"\n",
    "new_model.LoadModel(\"WEIGHTS\",load_path)\n",
    "print(new_model.model.summary())"
   ]
  },
  {
   "cell_type": "code",
   "execution_count": null,
   "metadata": {},
   "outputs": [],
   "source": [
    "my_weight =[]\n",
    "my_weight.append(np.reshape(y,(1,-1)))\n",
    "my_weight.append(np.reshape(y,(-1)))\n",
    "new_model.model.layers[1].set_weights(my_weight)\n",
    "\n",
    "# my_weight =[]\n",
    "# my_weight.append(np.reshape(x_predict,(1,-1)))\n",
    "# my_weight.append(np.reshape(x_predict,(-1)))\n",
    "# new_model.model.layers[1].set_weights(my_weight)"
   ]
  },
  {
   "cell_type": "code",
   "execution_count": null,
   "metadata": {},
   "outputs": [],
   "source": [
    "net_input = np.asarray([0],dtype=np.float32)\n",
    "x_predict_2 = y-new_model.model.predict(net_input)\n",
    "print(x_predict_2.shape)"
   ]
  },
  {
   "cell_type": "code",
   "execution_count": null,
   "metadata": {},
   "outputs": [],
   "source": [
    "x_predict_2 = np.reshape(x_predict_2,(256,256))\n",
    "plt.imshow(x_predict_2)\n",
    "# print(np.mean(abs(x_predict_2)))"
   ]
  },
  {
   "cell_type": "code",
   "execution_count": null,
   "metadata": {},
   "outputs": [],
   "source": [
    "psnr_x_ = compare_psnr(x, x_predict_2)\n",
    "ssim_x_ = compare_ssim(x, x_predict_2)\n",
    "print(psnr_x_,ssim_x_)"
   ]
  },
  {
   "cell_type": "code",
   "execution_count": null,
   "metadata": {},
   "outputs": [],
   "source": [
    "# gradient backpropagation"
   ]
  },
  {
   "cell_type": "code",
   "execution_count": null,
   "metadata": {},
   "outputs": [],
   "source": [
    "print(len(new_model.model.layers))"
   ]
  },
  {
   "cell_type": "code",
   "execution_count": null,
   "metadata": {},
   "outputs": [],
   "source": [
    "print(new_model.model.layers[1].name)\n",
    "print(new_model.model.layers[1].trainable_weights)"
   ]
  },
  {
   "cell_type": "code",
   "execution_count": null,
   "metadata": {
    "scrolled": true
   },
   "outputs": [],
   "source": [
    "for i in range(2,len(new_model.model.layers)):\n",
    "    new_model.model.layers[i].trainable= False\n",
    "for i in range(len(new_model.model.layers)):\n",
    "    print(new_model.model.layers[i].trainable)"
   ]
  },
  {
   "cell_type": "code",
   "execution_count": null,
   "metadata": {},
   "outputs": [],
   "source": [
    "my_weight =[]\n",
    "my_weight.append(np.reshape(x_predict_2,(1,-1)))\n",
    "my_weight.append(np.reshape(x_predict_2,(-1)))\n",
    "new_model.model.layers[1].set_weights(my_weight)"
   ]
  },
  {
   "cell_type": "code",
   "execution_count": null,
   "metadata": {},
   "outputs": [],
   "source": [
    "target = np.zeros(y.shape)\n",
    "print(target.shape)"
   ]
  },
  {
   "cell_type": "code",
   "execution_count": null,
   "metadata": {},
   "outputs": [],
   "source": [
    "opt = keras.optimizers.Adam(lr=0.1)\n",
    "loss = keras.losses.mean_absolute_error\n",
    "new_model.model.compile(opt,loss)"
   ]
  },
  {
   "cell_type": "code",
   "execution_count": null,
   "metadata": {},
   "outputs": [],
   "source": [
    "new_weight = new_model.model.layers[1].get_weights()\n",
    "new_image = np.reshape(new_weight[1],(256,256))\n",
    "plt.imshow(new_image)\n",
    "psnr_x_ = compare_psnr(x, new_image)\n",
    "ssim_x_ = compare_ssim(x, new_image)\n",
    "print(psnr_x_,ssim_x_)"
   ]
  },
  {
   "cell_type": "code",
   "execution_count": null,
   "metadata": {
    "scrolled": true
   },
   "outputs": [],
   "source": [
    "new_model.model.fit(net_input,target,epochs=100,batch_size=1,verbose=2)"
   ]
  },
  {
   "cell_type": "code",
   "execution_count": null,
   "metadata": {},
   "outputs": [],
   "source": []
  },
  {
   "cell_type": "code",
   "execution_count": null,
   "metadata": {},
   "outputs": [],
   "source": [
    "new_weight = new_model.model.layers[1].get_weights()\n",
    "new_image = np.reshape(new_weight[1],(256,256))\n",
    "plt.imshow(new_image)"
   ]
  },
  {
   "cell_type": "code",
   "execution_count": null,
   "metadata": {},
   "outputs": [],
   "source": [
    "psnr_x_ = compare_psnr(x, new_image)\n",
    "ssim_x_ = compare_ssim(x, new_image)\n",
    "print(psnr_x_,ssim_x_)"
   ]
  },
  {
   "cell_type": "code",
   "execution_count": null,
   "metadata": {},
   "outputs": [],
   "source": [
    "net_input = np.asarray([0],dtype=np.float32)\n",
    "x_predict_2 = y-new_model.model.predict(net_input)\n",
    "print(x_predict_2.shape)\n",
    "x_predict_2 = np.reshape(x_predict_2,(256,256))\n",
    "plt.imshow(x_predict_2)"
   ]
  },
  {
   "cell_type": "code",
   "execution_count": null,
   "metadata": {},
   "outputs": [],
   "source": [
    "psnr_x_ = compare_psnr(x, x_predict_2)\n",
    "ssim_x_ = compare_ssim(x, x_predict_2)\n",
    "print(psnr_x_,ssim_x_)"
   ]
  },
  {
   "cell_type": "markdown",
   "metadata": {},
   "source": [
    "Does not work well. The residual trained by the author of the paper does not be a converged network, which means the network is not able to detect/recognize whether the result we get is a \"successful\" result, which means no more updates.\n",
    "\n",
    "next step is to use the dataset to retrain the network, see whether a converged intellegent network exists, if so, does the method work?\n",
    "\n",
    "To be specific, the up-coming task is to rewrite some head files."
   ]
  }
 ],
 "metadata": {
  "kernelspec": {
   "display_name": "Python 3",
   "language": "python",
   "name": "python3"
  },
  "language_info": {
   "codemirror_mode": {
    "name": "ipython",
    "version": 3
   },
   "file_extension": ".py",
   "mimetype": "text/x-python",
   "name": "python",
   "nbconvert_exporter": "python",
   "pygments_lexer": "ipython3",
   "version": "3.5.0"
  }
 },
 "nbformat": 4,
 "nbformat_minor": 2
}
